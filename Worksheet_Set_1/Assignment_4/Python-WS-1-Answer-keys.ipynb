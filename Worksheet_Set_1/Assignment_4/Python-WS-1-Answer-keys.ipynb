{
 "cells": [
  {
   "cell_type": "markdown",
   "metadata": {
    "id": "seA7HQMDxcwA"
   },
   "source": [
    "# PYTHON - WORKSHEET 1\n",
    "## ANSWER KEYS\n",
    "\n",
    "1. (C) %\n",
    "2. (B) 0\n",
    "3. (C) 24\n",
    "4. (A) 2\n",
    "5. (D) 6\n",
    "6. (C) the finally block will be executed no matter if the try block raises an error or not.\n",
    "7. (A) It is used to raise an exception.\n",
    "8. (C)  in defining a generator\n",
    "9. (A), (C) _abc, abc2\n",
    "10. (A), (B) yield, raise\n",
    "11. **Answer is as follows :**"
   ]
  },
  {
   "cell_type": "code",
   "execution_count": 1,
   "metadata": {
    "id": "9gF9hApvxcwQ",
    "outputId": "f3d95aed-0584-435c-c6eb-0cd4e8d3b36d"
   },
   "outputs": [
    {
     "name": "stdout",
     "output_type": "stream",
     "text": [
      "enter the number to find the factorial4\n",
      "The factorial is  24\n"
     ]
    }
   ],
   "source": [
    "# Program to find the factorial of a no. entered by user\n",
    "\n",
    "n=int(input(\"enter the number to find the factorial\"))\n",
    "def fact(n):\n",
    "    \n",
    "    if n==1 :\n",
    "        return 1\n",
    "    else :\n",
    "        return n*fact(n-1)\n",
    "    \n",
    "if n<0 :\n",
    "    print(\" number is negative . factorial not possible\")\n",
    "elif n==0:\n",
    "    print(\"The factorial is \",1)\n",
    "else:\n",
    "     print(\"The factorial is \",fact(n))"
   ]
  },
  {
   "cell_type": "markdown",
   "metadata": {
    "id": "GX6U52ZgxcwU"
   },
   "source": [
    "12. **Answer is as follows :**"
   ]
  },
  {
   "cell_type": "code",
   "execution_count": 3,
   "metadata": {
    "id": "te9NHJSRxcwV",
    "outputId": "0c128fd5-5ff7-41a7-b7b3-fb0d3b43a935"
   },
   "outputs": [
    {
     "name": "stdout",
     "output_type": "stream",
     "text": [
      "enter the number5\n",
      "Number is prime\n"
     ]
    }
   ],
   "source": [
    "# Program to check whether entered number is a prime number or a composite number\n",
    "\n",
    "n=int(input('enter the number'))\n",
    "if n==0 or n==1:\n",
    "    print(\"neither prime nor composite\")\n",
    "else:\n",
    "    k=[]\n",
    "    for i in range(1,n):\n",
    "        if n%i==0:\n",
    "            k.append(i)\n",
    "    if len(k)<=2:\n",
    "        print(\"Number is prime\")\n",
    "        \n",
    "    else :\n",
    "        print(\"Number is composite\")  "
   ]
  },
  {
   "cell_type": "markdown",
   "metadata": {
    "id": "M_GFiZO_xcwW"
   },
   "source": [
    "13. **Answer is as follows :**"
   ]
  },
  {
   "cell_type": "code",
   "execution_count": 5,
   "metadata": {
    "id": "fV49ZNsnxcwX",
    "outputId": "d781764e-68d6-49e9-9a7a-051a438edac4"
   },
   "outputs": [
    {
     "name": "stdout",
     "output_type": "stream",
     "text": [
      "Enter the stringwew\n",
      "the string is palindrome\n"
     ]
    }
   ],
   "source": [
    "# Program to check if the entered string is palindrome or not\n",
    "\n",
    "string=input(\"Enter the string\")\n",
    "rev_string=\"\"\n",
    "for i in range(1,len(string)+1):\n",
    "    rev_string=rev_string+string.lower()[-i]\n",
    "if rev_string==string:\n",
    "    print(\"the string is palindrome\")\n",
    "else :\n",
    "    print(\"the string is not palindrome\")"
   ]
  },
  {
   "cell_type": "markdown",
   "metadata": {
    "id": "yz7dPV60xcwY"
   },
   "source": [
    "14. **Answer is as follows :**"
   ]
  },
  {
   "cell_type": "code",
   "execution_count": 6,
   "metadata": {
    "id": "qPRKdimzxcwZ",
    "outputId": "b970459d-5c77-47b7-d3d9-94d7974412df"
   },
   "outputs": [
    {
     "name": "stdout",
     "output_type": "stream",
     "text": [
      "enter the base of the right angled triangle2\n",
      "enter the perpendicular of the right angled triangle3\n",
      "the length of hypotenuse is  3.605551275463989\n"
     ]
    }
   ],
   "source": [
    "# Program to find the length of hypotenuse of a right angled triangle\n",
    "\n",
    "import math\n",
    "a=int(input(\"enter the base of the right angled triangle\"))\n",
    "b=int(input(\"enter the perpendicular of the right angled triangle\"))\n",
    "print(\"the length of hypotenuse is \",math.sqrt(a**2+b**2))"
   ]
  },
  {
   "cell_type": "markdown",
   "metadata": {
    "id": "eOCKqAMlxcwb"
   },
   "source": [
    "15. **Answer is as follows :**"
   ]
  },
  {
   "cell_type": "code",
   "execution_count": 10,
   "metadata": {
    "id": "HU6U5f2Hxcwc"
   },
   "outputs": [
    {
     "name": "stdout",
     "output_type": "stream",
     "text": [
      "Enter the stringwere\n",
      " The frequencies of characters in the string are {'w': 1, 'e': 2, 'r': 1}\n"
     ]
    }
   ],
   "source": [
    "# Program to find the frequency of each character present in the entered string\n",
    "\n",
    "string=input(\"Enter the string\")\n",
    "freq=dict()\n",
    "for i in string :\n",
    "    if i in freq.keys():\n",
    "        freq[i]=freq[i]+1\n",
    "    else :\n",
    "        freq[i]=1\n",
    "print(\" The frequencies of characters in the string are\", freq)"
   ]
  }
 ],
 "metadata": {
  "colab": {
   "name": "PYTHON WORKSHEET 1_ANSWER KEYS.ipynb",
   "provenance": []
  },
  "kernelspec": {
   "display_name": "Python 3",
   "language": "python",
   "name": "python3"
  },
  "language_info": {
   "codemirror_mode": {
    "name": "ipython",
    "version": 3
   },
   "file_extension": ".py",
   "mimetype": "text/x-python",
   "name": "python",
   "nbconvert_exporter": "python",
   "pygments_lexer": "ipython3",
   "version": "3.6.4"
  }
 },
 "nbformat": 4,
 "nbformat_minor": 1
}
