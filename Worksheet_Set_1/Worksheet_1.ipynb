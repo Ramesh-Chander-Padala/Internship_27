{
 "cells": [
  {
   "cell_type": "code",
   "execution_count": 5,
   "id": "4d6a7f5a",
   "metadata": {
    "scrolled": true
   },
   "outputs": [
    {
     "name": "stdout",
     "output_type": "stream",
     "text": [
      "Enter a number: 4\n",
      "The factorial of 4 is 24\n"
     ]
    }
   ],
   "source": [
    "# Question-11 : Python Program to find Factorial of a Number.\n",
    "\n",
    "# Take Input from User.\n",
    "num = int(input(\"Enter a number: \"))\n",
    "\n",
    "fact = 1\n",
    "\n",
    "# check if the number is negative, positive or zero\n",
    "if num < 0:\n",
    "   print(\"Sorry, You Entered a Negative Number, Factorial for Negative Numbers don't exist.\")\n",
    "elif num == 0:\n",
    "   print(\"The factorial of 0 is 1\")\n",
    "else:\n",
    "   for i in range(1,num + 1):\n",
    "       fact = fact*i\n",
    "   print(\"The factorial of\",num,\"is\",fact)"
   ]
  },
  {
   "cell_type": "raw",
   "id": "51015a97",
   "metadata": {},
   "source": []
  },
  {
   "cell_type": "code",
   "execution_count": 6,
   "id": "4e33e5cc",
   "metadata": {},
   "outputs": [
    {
     "name": "stdout",
     "output_type": "stream",
     "text": [
      "Enter any number:8\n",
      "8 is a Composite Number\n"
     ]
    }
   ],
   "source": [
    "# Question-12 : Python Program to check whether the number is Prime or composite number.\n",
    "\n",
    "#Taking Input.\n",
    "num= int(input(\"Enter any number:\"))\n",
    "\n",
    "if(num ==0 or num == 1):\n",
    "    printf(num,\"is neither prime nor composite\")\n",
    "elif num>1 :\n",
    "    for i in range(2,num):\n",
    "        if(num%i == 0):\n",
    "            print(num,\"is a Composite Number\")\n",
    "            break\n",
    "    else:\n",
    "        print(num,\"is a prime Number\")\n",
    "else:\n",
    "    print(\"Error !!!! Negative Number Entered, Please enter only Positive Numbers.\")"
   ]
  },
  {
   "cell_type": "code",
   "execution_count": 9,
   "id": "d4ff47d7",
   "metadata": {},
   "outputs": [
    {
     "name": "stdout",
     "output_type": "stream",
     "text": [
      "Enter any String:12233\n",
      "No, Entered String 12233 is not a Palindrome.\n"
     ]
    }
   ],
   "source": [
    "#Program to check whether the entered string is palindrome or not.\n",
    "\n",
    "# Function to check whether string is palindrome or not by reversing the entire string and comparing it with original one.\n",
    "def isPalindrome(s):\n",
    "    return s == s[::-1]\n",
    " \n",
    " \n",
    "str = input(\"Enter any String:\")\n",
    "\n",
    "#Invoking function to check.\n",
    "ans = isPalindrome(str)\n",
    " \n",
    "if ans:\n",
    "    print(\"Yes, the entered String\",str, \"is Palindrome.\")\n",
    "else:\n",
    "    print(\"No, Entered String\",str, \"is not a Palindrome.\")"
   ]
  },
  {
   "cell_type": "code",
   "execution_count": null,
   "id": "f93a6be7",
   "metadata": {},
   "outputs": [],
   "source": []
  },
  {
   "cell_type": "code",
   "execution_count": 11,
   "id": "ab196e37",
   "metadata": {},
   "outputs": [
    {
     "name": "stdout",
     "output_type": "stream",
     "text": [
      "Enter Dimensions of Base : 3\n",
      "Enter Dimensions of Height : 4\n",
      "Hypotenuse's Dimensions are :  5.0\n"
     ]
    }
   ],
   "source": [
    "# Program to find Third Side of a Right Angled Traingle (Assuming User Inputs \"Base\" and \"Height\" of traingle, we need to find \"hypotenuse\")\n",
    "\n",
    "# Function to calculate Hypotenuse of right angle triangle.\n",
    "def find_Hyp_trngl(base, height):\n",
    "    return ((base ** 2 + height ** 2) ** 0.5)\n",
    "\n",
    "\n",
    "# Taking Input From User.\n",
    "base = float(input(\"Enter Dimensions of Base : \"))\n",
    "\n",
    "height = float(input(\"Enter Dimensions of Height : \"))\n",
    "\n",
    "print(\"Hypotenuse's Dimensions are : \", find_Hyp_trngl(base, height))"
   ]
  },
  {
   "cell_type": "code",
   "execution_count": null,
   "id": "607c398f",
   "metadata": {},
   "outputs": [],
   "source": []
  },
  {
   "cell_type": "code",
   "execution_count": 18,
   "id": "8ad96b5d",
   "metadata": {},
   "outputs": [
    {
     "name": "stdout",
     "output_type": "stream",
     "text": [
      "Enter the string: RameshR\n",
      "{'R': 2, 'a': 1, 'm': 1, 'e': 1, 's': 1, 'h': 1}\n"
     ]
    }
   ],
   "source": [
    "# Program to Print the frequency of each Character in a String.\n",
    "\n",
    "# Taking Input from User.\n",
    "str = input (\"Enter the string: \")\n",
    "\n",
    "#Creating Dictionary\n",
    "dictn = dict()\n",
    "\n",
    "#calculating Frequency of Characters.\n",
    "for char in str:\n",
    "    if char in dictn:\n",
    "        dictn[char] = dictn[char] + 1\n",
    "    else:\n",
    "        dictn[char] = 1\n",
    "print(dictn)"
   ]
  },
  {
   "cell_type": "code",
   "execution_count": null,
   "id": "376f4069",
   "metadata": {},
   "outputs": [],
   "source": []
  }
 ],
 "metadata": {
  "kernelspec": {
   "display_name": "Python 3 (ipykernel)",
   "language": "python",
   "name": "python3"
  },
  "language_info": {
   "codemirror_mode": {
    "name": "ipython",
    "version": 3
   },
   "file_extension": ".py",
   "mimetype": "text/x-python",
   "name": "python",
   "nbconvert_exporter": "python",
   "pygments_lexer": "ipython3",
   "version": "3.9.7"
  }
 },
 "nbformat": 4,
 "nbformat_minor": 5
}
